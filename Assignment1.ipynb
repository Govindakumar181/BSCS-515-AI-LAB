{
 "cells": [
  {
   "cell_type": "markdown",
   "metadata": {},
   "source": [
    "#  Problem 3a"
   ]
  },
  {
   "cell_type": "code",
   "execution_count": 48,
   "metadata": {},
   "outputs": [
    {
     "name": "stdout",
     "output_type": "stream",
     "text": [
      "word\n"
     ]
    }
   ],
   "source": [
    "import collections\n",
    "import math\n",
    "\n",
    "def findAlphabeticallyLastWord(text):\n",
    "    \"\"\"\n",
    "    Given a string |text|, return the word in |text| that comes last\n",
    "    alphabetically (that is, the word that would appear last in a dictionary).\n",
    "    A word is defined by a maximal sequence of characters without whitespaces.\n",
    "    You might find max() and list comprehensions handy here.\n",
    "    \"\"\"\n",
    "    # BEGIN_YOUR_CODE (our solution is 1 line of code, but don't worry if you deviate from this)\n",
    "    return max(sorted(text.split(' ')))\n",
    "    raise Exception(\"Not implemented yet\")\n",
    "    # END_YOUR_CODE\n",
    "\n",
    "find = \"what is the last word alphabetically.\"\n",
    "word_find = findAlphabeticallyLastWord(find)\n",
    "print(word_find)"
   ]
  },
  {
   "cell_type": "markdown",
   "metadata": {},
   "source": [
    "#  Problem 3b"
   ]
  },
  {
   "cell_type": "code",
   "execution_count": 29,
   "metadata": {},
   "outputs": [
    {
     "name": "stdout",
     "output_type": "stream",
     "text": [
      "5.0\n"
     ]
    }
   ],
   "source": [
    "def euclideanDistance(loc1, loc2):\n",
    "    \"\"\"\n",
    "    Return the Euclidean distance between two locations, where the locations\n",
    "    are pairs of numbers (e.g., (3, 5)).\n",
    "    \"\"\"\n",
    "    # BEGIN_YOUR_CODE (our solution is 1 line of code, but don't worry if you deviate from this)\n",
    "    return math.sqrt((loc1[0] - loc2[0]) ** 2 + (loc1[1] - loc2[1]) ** 2)\n",
    "    raise Exception(\"Not implemented yet\")\n",
    "    # END_YOUR_CODE\n",
    "test1 = (1, 5)\n",
    "test2 = (4, 1)\n",
    "res_eucli = euclideanDistance(test1, test2)\n",
    "print(res_eucli)"
   ]
  },
  {
   "cell_type": "markdown",
   "metadata": {},
   "source": [
    "# Problem 3c"
   ]
  },
  {
   "cell_type": "code",
   "execution_count": 36,
   "metadata": {},
   "outputs": [
    {
     "name": "stdout",
     "output_type": "stream",
     "text": [
      "{'the cat and the cat', 'cat and the cat and', 'and the cat and the', 'the cat and the mouse'}\n"
     ]
    }
   ],
   "source": [
    "def mutateSentences(sentence):\n",
    "    \"\"\"\n",
    "    Given a sentence (sequence of words), return a list of all \"similar\"\n",
    "    sentences.\n",
    "    We define a sentence to be similar to the original sentence if\n",
    "      - it as the same number of words, and\n",
    "      - each pair of adjacent words in the new sentence also occurs in the original sentence\n",
    "        (the words within each pair should appear in the same order in the output sentence\n",
    "         as they did in the orignal sentence.)\n",
    "    Notes:\n",
    "      - The order of the sentences you output doesn't matter.\n",
    "      - You must not output duplicates.\n",
    "      - Your generated sentence can use a word in the original sentence more than\n",
    "        once.\n",
    "    Example:\n",
    "      - Input: 'the cat and the mouse'\n",
    "      - Output: ['and the cat and the', 'the cat and the mouse', 'the cat and the cat', 'cat and the cat and']\n",
    "                (reordered versions of this list are allowed)\n",
    "    \"\"\"\n",
    "    # BEGIN_YOUR_CODE (our solution is 20 lines of code, but don't worry if you deviate from this)\n",
    "    sList = sentence.split(' ')\n",
    "    lenth = len(sList)\n",
    "    wordDict = {}\n",
    "    for idx in range(len(sList) - 1):\n",
    "        if sList[idx] not in wordDict:\n",
    "            wordDict[sList[idx]] = set()\n",
    "        wordDict[sList[idx]].add(sList[idx + 1])\n",
    "    def helper(wordDict, lenth, ans, a):\n",
    "        if len(a) == lenth:\n",
    "            ans.add(' '.join(a))\n",
    "            return\n",
    "        last = a[-1]\n",
    "        if last not in wordDict:\n",
    "            return\n",
    "        for value in wordDict[last]:\n",
    "            a.append(value)\n",
    "            helper(wordDict, lenth, ans, a)\n",
    "            a.pop()\n",
    "        return\n",
    "    ans = set()\n",
    "    for key in wordDict:\n",
    "        helper(wordDict, lenth, ans, [key])\n",
    "    return ans\n",
    "    raise Exception(\"Not implemented yet\")\n",
    "    # END_YOUR_CODE\n",
    "\n",
    "test = 'the cat and the mouse'\n",
    "res = mutateSentences(test)\n",
    "print(res)"
   ]
  },
  {
   "cell_type": "markdown",
   "metadata": {},
   "source": [
    "# Problem 3d "
   ]
  },
  {
   "cell_type": "code",
   "execution_count": 47,
   "metadata": {},
   "outputs": [
    {
     "name": "stdout",
     "output_type": "stream",
     "text": [
      "15\n"
     ]
    }
   ],
   "source": [
    "def sparseVectorDotProduct(v1, v2):\n",
    "    \"\"\"\n",
    "    Given two sparse vectors |v1| and |v2|, each represented as collection.defaultdict(float), return\n",
    "    their dot product.\n",
    "    You might find it useful to use sum() and a list comprehension.\n",
    "    This function will be useful later for linear classifiers.\n",
    "    \"\"\"\n",
    "    # BEGIN_YOUR_CODE (our solution is 4 lines of code, but don't worry if you deviate from this)\n",
    "    ans = 0\n",
    "    for element, value in v1.items():\n",
    "        ans += value * v2[element]\n",
    "    return ans\n",
    "    raise Exception(\"Not implemented yet\")\n",
    "    # END_YOUR_CODE\n",
    "\n",
    "v1 = collections.defaultdict(float, {'a': 5})\n",
    "v2 = collections.defaultdict(float, {'b': 2, 'a': 3})\n",
    "res_sparse = sparseVectorDotProduct(v1, v2)\n",
    "print(res_sparse)"
   ]
  },
  {
   "cell_type": "markdown",
   "metadata": {},
   "source": [
    "# Problem 3e"
   ]
  },
  {
   "cell_type": "code",
   "execution_count": 44,
   "metadata": {},
   "outputs": [
    {
     "name": "stdout",
     "output_type": "stream",
     "text": [
      "defaultdict(<class 'float'>, {'a': 47, 'b': 28.0})\n"
     ]
    }
   ],
   "source": [
    "def incrementSparseVector(v1, scale, v2):\n",
    "    \"\"\"\n",
    "    Given two sparse vectors |v1| and |v2|, perform v1 += scale * v2.\n",
    "    This function will be useful later for linear classifiers.\n",
    "    \"\"\"\n",
    "    # BEGIN_YOUR_CODE (our solution is 2 lines of code, but don't worry if you deviate from this)\n",
    "    for element in v2:\n",
    "        v1[element] += scale * v2[element]\n",
    "        \n",
    "scale = 2\n",
    "incrementSparseVector(v1, scale, v2)\n",
    "print(v1)"
   ]
  },
  {
   "cell_type": "markdown",
   "metadata": {},
   "source": [
    "# Problem 3f"
   ]
  },
  {
   "cell_type": "code",
   "execution_count": 45,
   "metadata": {},
   "outputs": [
    {
     "name": "stdout",
     "output_type": "stream",
     "text": [
      "{'over', 'lazy', 'jumps', 'quick', 'brown'}\n",
      "True\n"
     ]
    }
   ],
   "source": [
    "def findSingletonWords(text):\n",
    "    \"\"\"\n",
    "    Splits the string |text| by whitespace and returns the set of words that\n",
    "    occur exactly once.\n",
    "    You might find it useful to use collections.defaultdict(int).\n",
    "    \"\"\"\n",
    "    # BEGIN_YOUR_CODE (our solution is 4 lines of code, but don't worry if you deviate from this)\n",
    "    tList = text.split(' ')\n",
    "    count = collections.Counter(tList)\n",
    "    return set([key for key in count if count[key] == 1])\n",
    "    raise Exception(\"Not implemented yet\")\n",
    "    # END_YOUR_CODE\n",
    "    \n",
    "test_str = 'the quick brown fox jumps over the lazy fox'\n",
    "res_str = findSingletonWords(test_str)\n",
    "ground = set(['quick', 'brown', 'jumps', 'over', 'lazy'])\n",
    "print(res_str)\n",
    "print(ground == res_str)\n"
   ]
  },
  {
   "cell_type": "markdown",
   "metadata": {},
   "source": [
    "# Problem 3g"
   ]
  },
  {
   "cell_type": "code",
   "execution_count": 46,
   "metadata": {},
   "outputs": [
    {
     "name": "stdout",
     "output_type": "stream",
     "text": [
      "7\n"
     ]
    }
   ],
   "source": [
    "def computeLongestPalindromeLength(text):\n",
    "    \"\"\"\n",
    "    A palindrome is a string that is equal to its reverse (e.g., 'ana').\n",
    "    Compute the length of the longest palindrome that can be obtained by deleting\n",
    "    letters from |text|.\n",
    "    For example: the longest palindrome in 'animal' is 'ama'.\n",
    "    Your algorithm should run in O(len(text)^2) time.\n",
    "    You should first define a recurrence before you start coding.\n",
    "    \"\"\"\n",
    "    # BEGIN_YOUR_CODE (our solution is 19 lines of code, but don't worry if you deviate from this)\n",
    "    textLen = len(text)\n",
    "    lpList = [[0] * textLen for _ in range(textLen)]\n",
    "    for s in range(textLen):\n",
    "        lpList[s][s] = 1\n",
    "    for subLen in range(2, textLen + 1):\n",
    "        for start in range(textLen - subLen + 1):\n",
    "            end = start + subLen - 1\n",
    "            if text[start] == text[end]:\n",
    "                if subLen == 2:\n",
    "                    lpList[start][end] = 2\n",
    "                else:\n",
    "                    lpList[start][end] = lpList[start + 1][end - 1] + 2\n",
    "            else:\n",
    "                lpList[start][end] = max(lpList[start + 1][end], lpList[start][end - 1])\n",
    "    return lpList[0][textLen - 1]\n",
    "    raise Exception(\"Not implemented yet\")\n",
    "    # END_YOUR_CODE\n",
    "test_pal = 'BBABCBCAB'\n",
    "ans_pal = computeLongestPalindromeLength(test_pal)\n",
    "print(ans_pal)"
   ]
  },
  {
   "cell_type": "code",
   "execution_count": null,
   "metadata": {},
   "outputs": [],
   "source": []
  }
 ],
 "metadata": {
  "kernelspec": {
   "display_name": "Python 3",
   "language": "python",
   "name": "python3"
  },
  "language_info": {
   "codemirror_mode": {
    "name": "ipython",
    "version": 3
   },
   "file_extension": ".py",
   "mimetype": "text/x-python",
   "name": "python",
   "nbconvert_exporter": "python",
   "pygments_lexer": "ipython3",
   "version": "3.7.1"
  }
 },
 "nbformat": 4,
 "nbformat_minor": 2
}
